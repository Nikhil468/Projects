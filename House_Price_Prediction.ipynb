{
  "nbformat": 4,
  "nbformat_minor": 0,
  "metadata": {
    "colab": {
      "name": "House Price Prediction",
      "provenance": [],
      "authorship_tag": "ABX9TyNc8ykqKrew6+xK4/qaG5HU",
      "include_colab_link": true
    },
    "kernelspec": {
      "name": "python3",
      "display_name": "Python 3"
    }
  },
  "cells": [
    {
      "cell_type": "markdown",
      "metadata": {
        "id": "view-in-github",
        "colab_type": "text"
      },
      "source": [
        "<a href=\"https://colab.research.google.com/github/Nikhil468/Projects/blob/master/House_Price_Prediction.ipynb\" target=\"_parent\"><img src=\"https://colab.research.google.com/assets/colab-badge.svg\" alt=\"Open In Colab\"/></a>"
      ]
    },
    {
      "cell_type": "code",
      "metadata": {
        "id": "7DbdSbS2ggkI"
      },
      "source": [
        "import tensorflow as tf\r\n",
        "import numpy as np\r\n",
        "import pandas as pd\r\n",
        "import matplotlib.pyplot as plt\r\n"
      ],
      "execution_count": 1,
      "outputs": []
    },
    {
      "cell_type": "code",
      "metadata": {
        "id": "t45kfH4RgnSR"
      },
      "source": [
        "data=pd.read_csv(\"/content/sample_data/california_housing_train.csv\")\r\n",
        "labels=data.pop(\"median_house_value\")"
      ],
      "execution_count": 2,
      "outputs": []
    },
    {
      "cell_type": "code",
      "metadata": {
        "colab": {
          "base_uri": "https://localhost:8080/"
        },
        "id": "Va5VFTIggyQM",
        "outputId": "e8baf019-6c37-4660-fc75-baba9abd23b4"
      },
      "source": [
        "x_train=np.array(data)\r\n",
        "y_train=np.array(labels)\r\n",
        "\r\n",
        "print(x_train[:10])\r\n",
        "print(y_train[:10])\r\n",
        "\r\n",
        "means=np.mean(x_train,axis=0)\r\n",
        "stds=np.std(x_train,axis=0)\r\n",
        "\r\n",
        "print(means)\r\n",
        "print(stds)\r\n",
        "\r\n",
        "x_train=(x_train-means)/stds\r\n",
        "\r\n"
      ],
      "execution_count": 3,
      "outputs": [
        {
          "output_type": "stream",
          "text": [
            "[[-1.1431e+02  3.4190e+01  1.5000e+01  5.6120e+03  1.2830e+03  1.0150e+03\n",
            "   4.7200e+02  1.4936e+00]\n",
            " [-1.1447e+02  3.4400e+01  1.9000e+01  7.6500e+03  1.9010e+03  1.1290e+03\n",
            "   4.6300e+02  1.8200e+00]\n",
            " [-1.1456e+02  3.3690e+01  1.7000e+01  7.2000e+02  1.7400e+02  3.3300e+02\n",
            "   1.1700e+02  1.6509e+00]\n",
            " [-1.1457e+02  3.3640e+01  1.4000e+01  1.5010e+03  3.3700e+02  5.1500e+02\n",
            "   2.2600e+02  3.1917e+00]\n",
            " [-1.1457e+02  3.3570e+01  2.0000e+01  1.4540e+03  3.2600e+02  6.2400e+02\n",
            "   2.6200e+02  1.9250e+00]\n",
            " [-1.1458e+02  3.3630e+01  2.9000e+01  1.3870e+03  2.3600e+02  6.7100e+02\n",
            "   2.3900e+02  3.3438e+00]\n",
            " [-1.1458e+02  3.3610e+01  2.5000e+01  2.9070e+03  6.8000e+02  1.8410e+03\n",
            "   6.3300e+02  2.6768e+00]\n",
            " [-1.1459e+02  3.4830e+01  4.1000e+01  8.1200e+02  1.6800e+02  3.7500e+02\n",
            "   1.5800e+02  1.7083e+00]\n",
            " [-1.1459e+02  3.3610e+01  3.4000e+01  4.7890e+03  1.1750e+03  3.1340e+03\n",
            "   1.0560e+03  2.1782e+00]\n",
            " [-1.1460e+02  3.4830e+01  4.6000e+01  1.4970e+03  3.0900e+02  7.8700e+02\n",
            "   2.7100e+02  2.1908e+00]]\n",
            "[66900. 80100. 85700. 73400. 65500. 74000. 82400. 48500. 58400. 48100.]\n",
            "[-119.56210824   35.62522471   28.58935294 2643.66441176  539.41082353\n",
            " 1429.57394118  501.22194118    3.8835781 ]\n",
            "[2.00510743e+00 2.13727693e+00 1.25865668e+01 2.17988295e+03\n",
            " 4.21487054e+02 1.14781920e+03 3.84509531e+02 1.90810040e+00]\n"
          ],
          "name": "stdout"
        }
      ]
    },
    {
      "cell_type": "code",
      "metadata": {
        "colab": {
          "base_uri": "https://localhost:8080/"
        },
        "id": "MjSEmvrvhLDy",
        "outputId": "27b514b1-a324-43d7-feba-7201754f0c4a"
      },
      "source": [
        "y_train=(y_train-np.mean(y_train,axis=0))/np.std(y_train,axis=0)\r\n",
        "print(y_train)"
      ],
      "execution_count": 4,
      "outputs": [
        {
          "output_type": "stream",
          "text": [
            "[-1.21055773 -1.09674535 -1.04846131 ... -0.89412482 -1.04759909\n",
            " -0.97172417]\n"
          ],
          "name": "stdout"
        }
      ]
    },
    {
      "cell_type": "code",
      "metadata": {
        "id": "2gkYGv5ehcoh"
      },
      "source": [
        "model=tf.keras.models.Sequential([\r\n",
        "                                  tf.keras.layers.Dense(20,activation=\"relu\"),\r\n",
        "                                  tf.keras.layers.Dense(10,activation=\"relu\"),\r\n",
        "                                  tf.keras.layers.Dense(10,activation=\"relu\"),\r\n",
        "                                  tf.keras.layers.Dense(1)\r\n",
        "])\r\n",
        "model.compile(optimizer=\"adam\",loss=\"mean_absolute_error\",metrics=[\"accuracy\"])"
      ],
      "execution_count": 27,
      "outputs": []
    },
    {
      "cell_type": "code",
      "metadata": {
        "colab": {
          "base_uri": "https://localhost:8080/"
        },
        "id": "JMv8_OK6ic7-",
        "outputId": "3319fc65-eb75-4865-9dc5-181e2fa8da62"
      },
      "source": [
        "history=model.fit(x_train,y_train,epochs=20,batch_size=100)"
      ],
      "execution_count": 28,
      "outputs": [
        {
          "output_type": "stream",
          "text": [
            "Epoch 1/20\n",
            "170/170 [==============================] - 1s 1ms/step - loss: 0.7047 - accuracy: 0.0000e+00\n",
            "Epoch 2/20\n",
            "170/170 [==============================] - 0s 1ms/step - loss: 0.4211 - accuracy: 0.0000e+00\n",
            "Epoch 3/20\n",
            "170/170 [==============================] - 0s 1ms/step - loss: 0.3919 - accuracy: 0.0000e+00\n",
            "Epoch 4/20\n",
            "170/170 [==============================] - 0s 1ms/step - loss: 0.3783 - accuracy: 0.0000e+00\n",
            "Epoch 5/20\n",
            "170/170 [==============================] - 0s 1ms/step - loss: 0.3693 - accuracy: 0.0000e+00\n",
            "Epoch 6/20\n",
            "170/170 [==============================] - 0s 1ms/step - loss: 0.3637 - accuracy: 0.0000e+00\n",
            "Epoch 7/20\n",
            "170/170 [==============================] - 0s 1ms/step - loss: 0.3604 - accuracy: 0.0000e+00\n",
            "Epoch 8/20\n",
            "170/170 [==============================] - 0s 1ms/step - loss: 0.3528 - accuracy: 0.0000e+00\n",
            "Epoch 9/20\n",
            "170/170 [==============================] - 0s 1ms/step - loss: 0.3486 - accuracy: 0.0000e+00\n",
            "Epoch 10/20\n",
            "170/170 [==============================] - 0s 1ms/step - loss: 0.3449 - accuracy: 0.0000e+00\n",
            "Epoch 11/20\n",
            "170/170 [==============================] - 0s 1ms/step - loss: 0.3403 - accuracy: 0.0000e+00\n",
            "Epoch 12/20\n",
            "170/170 [==============================] - 0s 1ms/step - loss: 0.3411 - accuracy: 0.0000e+00\n",
            "Epoch 13/20\n",
            "170/170 [==============================] - 0s 1ms/step - loss: 0.3368 - accuracy: 0.0000e+00\n",
            "Epoch 14/20\n",
            "170/170 [==============================] - 0s 1ms/step - loss: 0.3401 - accuracy: 0.0000e+00\n",
            "Epoch 15/20\n",
            "170/170 [==============================] - 0s 1ms/step - loss: 0.3345 - accuracy: 0.0000e+00\n",
            "Epoch 16/20\n",
            "170/170 [==============================] - 0s 1ms/step - loss: 0.3330 - accuracy: 0.0000e+00\n",
            "Epoch 17/20\n",
            "170/170 [==============================] - 0s 1ms/step - loss: 0.3307 - accuracy: 0.0000e+00\n",
            "Epoch 18/20\n",
            "170/170 [==============================] - 0s 1ms/step - loss: 0.3303 - accuracy: 0.0000e+00\n",
            "Epoch 19/20\n",
            "170/170 [==============================] - 0s 1ms/step - loss: 0.3293 - accuracy: 0.0000e+00\n",
            "Epoch 20/20\n",
            "170/170 [==============================] - 0s 1ms/step - loss: 0.3269 - accuracy: 0.0000e+00\n"
          ],
          "name": "stdout"
        }
      ]
    },
    {
      "cell_type": "code",
      "metadata": {
        "colab": {
          "base_uri": "https://localhost:8080/"
        },
        "id": "J7En2rycioBT",
        "outputId": "2cf697ce-e332-44d8-cf37-b60248b5446a"
      },
      "source": [
        "print(model.predict(x_train[200].reshape((1,8))))\r\n",
        "print(y_train[200])"
      ],
      "execution_count": 33,
      "outputs": [
        {
          "output_type": "stream",
          "text": [
            "[[-1.1391959]]\n",
            "-1.1553759652321596\n"
          ],
          "name": "stdout"
        }
      ]
    },
    {
      "cell_type": "code",
      "metadata": {
        "id": "-vKkl5HOi62F"
      },
      "source": [
        "test=pd.read_csv(\"/content/sample_data/california_housing_test.csv\")"
      ],
      "execution_count": 20,
      "outputs": []
    },
    {
      "cell_type": "code",
      "metadata": {
        "id": "Cff83kwAjA8m"
      },
      "source": [
        "test_labels=test.pop(\"median_house_value\")"
      ],
      "execution_count": 21,
      "outputs": []
    },
    {
      "cell_type": "code",
      "metadata": {
        "id": "440q9kiwjF3t"
      },
      "source": [
        "x_test=np.array(test)\r\n",
        "y_test=np.array(test_labels)"
      ],
      "execution_count": 39,
      "outputs": []
    },
    {
      "cell_type": "code",
      "metadata": {
        "id": "vrvU0CWLjNAD"
      },
      "source": [
        "x_test=(x_test-means)/stds\r\n",
        "y_test=(y_test-np.mean(labels,axis=0))/np.std(labels,axis=0)\r\n"
      ],
      "execution_count": 40,
      "outputs": []
    },
    {
      "cell_type": "code",
      "metadata": {
        "colab": {
          "base_uri": "https://localhost:8080/"
        },
        "id": "dKxHxYoKjfUZ",
        "outputId": "7e0f7aab-1523-417e-b2cf-63d12944955f"
      },
      "source": [
        "x=model.evaluate(x_test,y_test)"
      ],
      "execution_count": 41,
      "outputs": [
        {
          "output_type": "stream",
          "text": [
            "94/94 [==============================] - 0s 1ms/step - loss: 0.3356 - accuracy: 0.0000e+00\n"
          ],
          "name": "stdout"
        }
      ]
    },
    {
      "cell_type": "code",
      "metadata": {
        "colab": {
          "base_uri": "https://localhost:8080/"
        },
        "id": "71TYIENKjnQa",
        "outputId": "c81d4209-8841-4b7d-a2ff-98298fefdcd7"
      },
      "source": [
        "print(x)"
      ],
      "execution_count": 35,
      "outputs": [
        {
          "output_type": "stream",
          "text": [
            "[15.647674560546875, 0.0]\n"
          ],
          "name": "stdout"
        }
      ]
    },
    {
      "cell_type": "code",
      "metadata": {
        "colab": {
          "base_uri": "https://localhost:8080/"
        },
        "id": "K42VdOgljoxp",
        "outputId": "4feaff8b-5099-4934-b607-209afe5649ca"
      },
      "source": [
        "print(model.predict(x_test[300].reshape((1,8))))\r\n",
        "print(y_test[300])"
      ],
      "execution_count": 43,
      "outputs": [
        {
          "output_type": "stream",
          "text": [
            "[[-0.19454142]]\n",
            "-0.20866389622506568\n"
          ],
          "name": "stdout"
        }
      ]
    },
    {
      "cell_type": "code",
      "metadata": {
        "colab": {
          "base_uri": "https://localhost:8080/"
        },
        "id": "b0MRi6SIjwET",
        "outputId": "bd4d1bf6-9d44-4d84-c1f2-793c66e8dfbe"
      },
      "source": [
        "history=model.fit(x_train,y_train,epochs=10)"
      ],
      "execution_count": null,
      "outputs": [
        {
          "output_type": "stream",
          "text": [
            "Epoch 1/10\n",
            "532/532 [==============================] - 1s 1ms/step - loss: 0.3761 - accuracy: 0.0000e+00\n",
            "Epoch 2/10\n",
            "532/532 [==============================] - 1s 1ms/step - loss: 0.3734 - accuracy: 0.0000e+00\n",
            "Epoch 3/10\n",
            "532/532 [==============================] - 1s 1ms/step - loss: 0.3742 - accuracy: 0.0000e+00\n",
            "Epoch 4/10\n",
            "532/532 [==============================] - 1s 1ms/step - loss: 0.3738 - accuracy: 0.0000e+00\n",
            "Epoch 5/10\n",
            "532/532 [==============================] - 1s 2ms/step - loss: 0.3724 - accuracy: 0.0000e+00\n",
            "Epoch 6/10\n",
            "532/532 [==============================] - 1s 1ms/step - loss: 0.3697 - accuracy: 0.0000e+00\n",
            "Epoch 7/10\n",
            "532/532 [==============================] - 1s 1ms/step - loss: 0.3682 - accuracy: 0.0000e+00\n",
            "Epoch 8/10\n",
            "532/532 [==============================] - 1s 1ms/step - loss: 0.3673 - accuracy: 0.0000e+00\n",
            "Epoch 9/10\n",
            "532/532 [==============================] - 1s 1ms/step - loss: 0.3674 - accuracy: 0.0000e+00\n",
            "Epoch 10/10\n",
            "532/532 [==============================] - 1s 1ms/step - loss: 0.3646 - accuracy: 0.0000e+00\n"
          ],
          "name": "stdout"
        }
      ]
    },
    {
      "cell_type": "code",
      "metadata": {
        "colab": {
          "base_uri": "https://localhost:8080/"
        },
        "id": "Qk9KSrT-kEec",
        "outputId": "b255ec23-a671-4559-c082-40d8bcd8a672"
      },
      "source": [
        "x=model.predict(x_test)\r\n",
        "print(x[:10])\r\n",
        "print(y_test[:10])"
      ],
      "execution_count": null,
      "outputs": [
        {
          "output_type": "stream",
          "text": [
            "[[ 1.3786191 ]\n",
            " [-0.03255829]\n",
            " [ 0.677228  ]\n",
            " [ 0.8072083 ]\n",
            " [-0.9373349 ]\n",
            " [-1.1853997 ]\n",
            " [-1.17628   ]\n",
            " [-0.02526253]\n",
            " [-0.02916291]\n",
            " [-0.5501393 ]]\n",
            "[ 1.18467554 -0.26557009  0.54491201  1.05792994 -1.08294991 -1.20969551\n",
            " -1.20969551 -0.34834273 -0.1112336  -0.37162253]\n"
          ],
          "name": "stdout"
        }
      ]
    },
    {
      "cell_type": "code",
      "metadata": {
        "colab": {
          "base_uri": "https://localhost:8080/"
        },
        "id": "WWomWvpakJhv",
        "outputId": "4b184ebf-5231-4a7d-c434-919aadef6812"
      },
      "source": [
        "history=model.fit(x_train,y_train,epochs=2,batch_size=1)"
      ],
      "execution_count": null,
      "outputs": [
        {
          "output_type": "stream",
          "text": [
            "Epoch 1/2\n",
            "17000/17000 [==============================] - 28s 2ms/step - loss: 0.4159 - accuracy: 0.0000e+00\n",
            "Epoch 2/2\n",
            "17000/17000 [==============================] - 27s 2ms/step - loss: 0.4076 - accuracy: 0.0000e+00\n"
          ],
          "name": "stdout"
        }
      ]
    },
    {
      "cell_type": "code",
      "metadata": {
        "colab": {
          "base_uri": "https://localhost:8080/"
        },
        "id": "M1y22tKAkZE0",
        "outputId": "eac3c97f-d7ca-4528-c78d-433fd9da429f"
      },
      "source": [
        "x=model.predict(x_test)\r\n",
        "print(x[:10])\r\n",
        "print(y_test[:10])"
      ],
      "execution_count": null,
      "outputs": [
        {
          "output_type": "stream",
          "text": [
            "[[ 1.6222684 ]\n",
            " [-0.02787742]\n",
            " [ 0.7764904 ]\n",
            " [ 1.1412125 ]\n",
            " [-0.86030614]\n",
            " [-1.2178459 ]\n",
            " [-1.1617193 ]\n",
            " [-0.01407054]\n",
            " [-0.10016721]\n",
            " [-0.6484699 ]]\n",
            "[ 1.18467554 -0.26557009  0.54491201  1.05792994 -1.08294991 -1.20969551\n",
            " -1.20969551 -0.34834273 -0.1112336  -0.37162253]\n"
          ],
          "name": "stdout"
        }
      ]
    },
    {
      "cell_type": "code",
      "metadata": {
        "id": "2J-BN0qLkqvb",
        "colab": {
          "base_uri": "https://localhost:8080/",
          "height": 1000
        },
        "outputId": "30b6c648-7d99-41b9-b6ee-5951d199c7ce"
      },
      "source": [
        "plt.boxplot(x_train,sym=\"\")"
      ],
      "execution_count": null,
      "outputs": [
        {
          "output_type": "execute_result",
          "data": {
            "text/plain": [
              "{'boxes': [<matplotlib.lines.Line2D at 0x7fc5d75740d0>,\n",
              "  <matplotlib.lines.Line2D at 0x7fc5d2aeca90>,\n",
              "  <matplotlib.lines.Line2D at 0x7fc5d2b5a7d0>,\n",
              "  <matplotlib.lines.Line2D at 0x7fc5d2bb6bd0>,\n",
              "  <matplotlib.lines.Line2D at 0x7fc5d2b13650>,\n",
              "  <matplotlib.lines.Line2D at 0x7fc5d2b67ed0>,\n",
              "  <matplotlib.lines.Line2D at 0x7fc5d2b50090>,\n",
              "  <matplotlib.lines.Line2D at 0x7fc5d2b621d0>],\n",
              " 'caps': [<matplotlib.lines.Line2D at 0x7fc5d757cf90>,\n",
              "  <matplotlib.lines.Line2D at 0x7fc5d2aecd90>,\n",
              "  <matplotlib.lines.Line2D at 0x7fc5d2addf10>,\n",
              "  <matplotlib.lines.Line2D at 0x7fc5d2b5aa10>,\n",
              "  <matplotlib.lines.Line2D at 0x7fc5d2b8df50>,\n",
              "  <matplotlib.lines.Line2D at 0x7fc5d2b8d390>,\n",
              "  <matplotlib.lines.Line2D at 0x7fc5d2b1c150>,\n",
              "  <matplotlib.lines.Line2D at 0x7fc5d2b1c690>,\n",
              "  <matplotlib.lines.Line2D at 0x7fc5d2b72ad0>,\n",
              "  <matplotlib.lines.Line2D at 0x7fc5d2b727d0>,\n",
              "  <matplotlib.lines.Line2D at 0x7fc5d2b6b8d0>,\n",
              "  <matplotlib.lines.Line2D at 0x7fc5d2b6b0d0>,\n",
              "  <matplotlib.lines.Line2D at 0x7fc5d2bb1050>,\n",
              "  <matplotlib.lines.Line2D at 0x7fc5d2bb1950>,\n",
              "  <matplotlib.lines.Line2D at 0x7fc5d34b1950>,\n",
              "  <matplotlib.lines.Line2D at 0x7fc5d2b4f150>],\n",
              " 'fliers': [],\n",
              " 'means': [],\n",
              " 'medians': [<matplotlib.lines.Line2D at 0x7fc5d2aec5d0>,\n",
              "  <matplotlib.lines.Line2D at 0x7fc5d2b5a950>,\n",
              "  <matplotlib.lines.Line2D at 0x7fc5d2b8d350>,\n",
              "  <matplotlib.lines.Line2D at 0x7fc5d2b1cbd0>,\n",
              "  <matplotlib.lines.Line2D at 0x7fc5d2b723d0>,\n",
              "  <matplotlib.lines.Line2D at 0x7fc5d2b6b450>,\n",
              "  <matplotlib.lines.Line2D at 0x7fc5d2b62a50>,\n",
              "  <matplotlib.lines.Line2D at 0x7fc5d2b4f450>],\n",
              " 'whiskers': [<matplotlib.lines.Line2D at 0x7fc5d7574dd0>,\n",
              "  <matplotlib.lines.Line2D at 0x7fc5d757c650>,\n",
              "  <matplotlib.lines.Line2D at 0x7fc5d2add490>,\n",
              "  <matplotlib.lines.Line2D at 0x7fc5d2adda50>,\n",
              "  <matplotlib.lines.Line2D at 0x7fc5d2baaf10>,\n",
              "  <matplotlib.lines.Line2D at 0x7fc5d2baaa50>,\n",
              "  <matplotlib.lines.Line2D at 0x7fc5d2bb6550>,\n",
              "  <matplotlib.lines.Line2D at 0x7fc5d801dd90>,\n",
              "  <matplotlib.lines.Line2D at 0x7fc5d2b13410>,\n",
              "  <matplotlib.lines.Line2D at 0x7fc5d2b13810>,\n",
              "  <matplotlib.lines.Line2D at 0x7fc5d2b67350>,\n",
              "  <matplotlib.lines.Line2D at 0x7fc5d7593250>,\n",
              "  <matplotlib.lines.Line2D at 0x7fc5d2b50b90>,\n",
              "  <matplotlib.lines.Line2D at 0x7fc5d2b50fd0>,\n",
              "  <matplotlib.lines.Line2D at 0x7fc5d2b62d10>,\n",
              "  <matplotlib.lines.Line2D at 0x7fc5d34b1fd0>]}"
            ]
          },
          "metadata": {
            "tags": []
          },
          "execution_count": 27
        },
        {
          "output_type": "display_data",
          "data": {
            "image/png": "[encoded data removed]",
            "text/plain": [
              "<Figure size 432x288 with 1 Axes>"
            ]
          },
          "metadata": {
            "tags": [],
            "needs_background": "light"
          }
        }
      ]
    },
    {
      "cell_type": "code",
      "metadata": {
        "colab": {
          "base_uri": "https://localhost:8080/",
          "height": 1000
        },
        "id": "yjz7ybhx0vqA",
        "outputId": "ff6eb800-315d-464f-cc57-a6ff4d3bc8a8"
      },
      "source": [
        "import pandas as pd\r\n",
        "import matplotlib.pyplot as plt\r\n",
        "import numpy as np\r\n",
        "dummy=pd.read_csv(\"/content/sample_data/california_housing_train.csv\")\r\n",
        "dummy.pop(\"median_house_value\")\r\n",
        "dummy=np.array(dummy)\r\n",
        "plt.boxplot(dummy,sym=\"\")"
      ],
      "execution_count": null,
      "outputs": [
        {
          "output_type": "execute_result",
          "data": {
            "text/plain": [
              "{'boxes': [<matplotlib.lines.Line2D at 0x7f37491ffd50>,\n",
              "  <matplotlib.lines.Line2D at 0x7f3749210dd0>,\n",
              "  <matplotlib.lines.Line2D at 0x7f3749220d90>,\n",
              "  <matplotlib.lines.Line2D at 0x7f3749231e10>,\n",
              "  <matplotlib.lines.Line2D at 0x7f37491c0e50>,\n",
              "  <matplotlib.lines.Line2D at 0x7f37491d2e50>,\n",
              "  <matplotlib.lines.Line2D at 0x7f37491e3e50>,\n",
              "  <matplotlib.lines.Line2D at 0x7f37491f3e50>],\n",
              " 'caps': [<matplotlib.lines.Line2D at 0x7f3749209d90>,\n",
              "  <matplotlib.lines.Line2D at 0x7f3749210310>,\n",
              "  <matplotlib.lines.Line2D at 0x7f3749217d90>,\n",
              "  <matplotlib.lines.Line2D at 0x7f3749220310>,\n",
              "  <matplotlib.lines.Line2D at 0x7f3749227dd0>,\n",
              "  <matplotlib.lines.Line2D at 0x7f3749231390>,\n",
              "  <matplotlib.lines.Line2D at 0x7f37491b8e10>,\n",
              "  <matplotlib.lines.Line2D at 0x7f37491c0390>,\n",
              "  <matplotlib.lines.Line2D at 0x7f37491cae50>,\n",
              "  <matplotlib.lines.Line2D at 0x7f37491d2390>,\n",
              "  <matplotlib.lines.Line2D at 0x7f37491d8e50>,\n",
              "  <matplotlib.lines.Line2D at 0x7f37491e33d0>,\n",
              "  <matplotlib.lines.Line2D at 0x7f37491eae50>,\n",
              "  <matplotlib.lines.Line2D at 0x7f37491f33d0>,\n",
              "  <matplotlib.lines.Line2D at 0x7f374917de50>,\n",
              "  <matplotlib.lines.Line2D at 0x7f37491843d0>],\n",
              " 'fliers': [],\n",
              " 'means': [],\n",
              " 'medians': [<matplotlib.lines.Line2D at 0x7f3749210890>,\n",
              "  <matplotlib.lines.Line2D at 0x7f3749220850>,\n",
              "  <matplotlib.lines.Line2D at 0x7f37492318d0>,\n",
              "  <matplotlib.lines.Line2D at 0x7f37491c08d0>,\n",
              "  <matplotlib.lines.Line2D at 0x7f37491d28d0>,\n",
              "  <matplotlib.lines.Line2D at 0x7f37491e3910>,\n",
              "  <matplotlib.lines.Line2D at 0x7f37491f3910>,\n",
              "  <matplotlib.lines.Line2D at 0x7f3749184910>],\n",
              " 'whiskers': [<matplotlib.lines.Line2D at 0x7f3749209310>,\n",
              "  <matplotlib.lines.Line2D at 0x7f3749209850>,\n",
              "  <matplotlib.lines.Line2D at 0x7f3749217350>,\n",
              "  <matplotlib.lines.Line2D at 0x7f3749217890>,\n",
              "  <matplotlib.lines.Line2D at 0x7f3749227310>,\n",
              "  <matplotlib.lines.Line2D at 0x7f3749227890>,\n",
              "  <matplotlib.lines.Line2D at 0x7f37491b8390>,\n",
              "  <matplotlib.lines.Line2D at 0x7f37491b88d0>,\n",
              "  <matplotlib.lines.Line2D at 0x7f37491ca410>,\n",
              "  <matplotlib.lines.Line2D at 0x7f37491ca910>,\n",
              "  <matplotlib.lines.Line2D at 0x7f37491d83d0>,\n",
              "  <matplotlib.lines.Line2D at 0x7f37491d8910>,\n",
              "  <matplotlib.lines.Line2D at 0x7f37491ea3d0>,\n",
              "  <matplotlib.lines.Line2D at 0x7f37491ea910>,\n",
              "  <matplotlib.lines.Line2D at 0x7f374917d3d0>,\n",
              "  <matplotlib.lines.Line2D at 0x7f374917d910>]}"
            ]
          },
          "metadata": {
            "tags": []
          },
          "execution_count": 9
        },
        {
          "output_type": "display_data",
          "data": {
            "image/png": "[encoded data removed]",
            "text/plain": [
              "<Figure size 432x288 with 1 Axes>"
            ]
          },
          "metadata": {
            "tags": [],
            "needs_background": "light"
          }
        }
      ]
    },
    {
      "cell_type": "code",
      "metadata": {
        "id": "l6qtqp8P2QUG"
      },
      "source": [
        ""
      ],
      "execution_count": null,
      "outputs": []
    }
  ]
}